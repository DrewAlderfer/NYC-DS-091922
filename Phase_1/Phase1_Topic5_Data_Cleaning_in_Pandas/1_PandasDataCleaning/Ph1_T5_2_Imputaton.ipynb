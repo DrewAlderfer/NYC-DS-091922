{
 "cells": [
  {
   "cell_type": "markdown",
   "metadata": {
    "cell_style": "center",
    "slideshow": {
     "slide_type": "slide"
    }
   },
   "source": [
    "<div style=\"color:white;\n",
    "           display:fill;\n",
    "           border-radius:5px;\n",
    "           background-color:#5642C5;\n",
    "           font-size:200%;\n",
    "           font-family:Arial;letter-spacing:0.5px\">\n",
    "\n",
    "<p width = 20%, style=\"padding: 10px;\n",
    "              color:white;\">\n",
    "Pandas: More on Missing Data (Imputation)\n",
    "              \n",
    "</p>\n",
    "</div>\n",
    "\n",
    "Data Science Cohort Live NYC Sept 2022\n",
    "<p>Phase 1: Topic 5</p>\n",
    "<br>\n",
    "<br>\n",
    "\n",
    "<div align = \"right\">\n",
    "<img src=\"Images/flatiron-school-logo.png\" align = \"right\" width=\"200\"/>\n",
    "</div>\n",
    "    \n",
    "    "
   ]
  },
  {
   "cell_type": "markdown",
   "metadata": {
    "slideshow": {
     "slide_type": "slide"
    }
   },
   "source": [
    "Previously, the Mike Tyson approach:\n",
    "<br>\n",
    "<br>\n",
    "\n",
    "<div align = \"right\">\n",
    "<center><img src=\"Images/tyson.jpg\" align = \"center\" width=\"500\"/></center>\n",
    "    <center>Ima .drop() you!!!</center>\n",
    "</div>\n",
    "    "
   ]
  },
  {
   "cell_type": "markdown",
   "metadata": {
    "slideshow": {
     "slide_type": "subslide"
    }
   },
   "source": [
    "Previously, the Mike Tyson approach:\n",
    "<br>\n",
    "<br>\n",
    "\n",
    "<div align = \"right\">\n",
    "<center><img src=\"Images/tyson.jpg\" align = \"center\" width=\"500\"/></center>\n",
    "    <center>Then ima .eatyourchildren()!!!</center>\n",
    "</div>\n",
    "    "
   ]
  },
  {
   "cell_type": "markdown",
   "metadata": {
    "slideshow": {
     "slide_type": "slide"
    }
   },
   "source": [
    "This lecture, the Lewis approach:\n",
    "<br>\n",
    "<br>\n",
    "<div align = \"right\">\n",
    "<center><img src=\"Images/lewis.png\" align = \"center\" width=\"300\"/></center>\n",
    "    <center>The sweet science of imputation.</center>"
   ]
  },
  {
   "cell_type": "markdown",
   "metadata": {
    "slideshow": {
     "slide_type": "slide"
    }
   },
   "source": [
    "#### Imputation\n",
    "\n",
    "The science and art of filling in missing values in a dataset.\n",
    "- May not want to throw away huge amounts of data.\n",
    "    - Not a lot of data to begin with.\n",
    "    - Can be very wasteful (e.g., throwing away all data on row because one attribute missing)"
   ]
  },
  {
   "cell_type": "markdown",
   "metadata": {
    "slideshow": {
     "slide_type": "slide"
    }
   },
   "source": [
    "| Obs_ID  | L (m) | W (m) | L<sub>beak</sub> (cm) | W<sub>beak</sub> (cm) | m (kg) | n<sub>suckers</sub> | Bioluminescent? | Species|\n",
    "| --- | --- | --- | --- | --- | --- | --- | --- | --- |\n",
    "| 0 | 1.1 | .6 | 10 | 5 | 10 | | N | Ghost octopus |\n",
    "| 1 | 30 | 9 | 8 | 5 | 180 | 1200 | N | Giant octopus |\n",
    "| 2 | 1.5 | .8 |  |  | 12 |  | Y | S. Syrtensis |\n",
    "| 2 | 1.3 | .9 | 3 | 2 | 12 | 150 |  | Glass Octopus |\n",
    "\n",
    "<br>\n",
    "<br>\n",
    "Dropping either on row or column = no data."
   ]
  },
  {
   "cell_type": "markdown",
   "metadata": {
    "slideshow": {
     "slide_type": "slide"
    }
   },
   "source": [
    "#### Sequence data\n",
    "- If data points likely correlated with points before and after:\n",
    "    - e.g., Time Series\n",
    "    \n",
    "- May be reasonable to interpolate/fill."
   ]
  },
  {
   "cell_type": "code",
   "execution_count": 1,
   "metadata": {
    "slideshow": {
     "slide_type": "slide"
    }
   },
   "outputs": [
    {
     "data": {
      "text/plain": [
       "#Passengers    9\n",
       "dtype: int64"
      ]
     },
     "execution_count": 1,
     "metadata": {},
     "output_type": "execute_result"
    }
   ],
   "source": [
    "import pandas as pd\n",
    "import matplotlib.pyplot as plt\n",
    "import numpy as np\n",
    "passengersvstime = pd.read_csv('data/AirPassengers.csv', parse_dates = True, index_col = 'Month', nrows = 60 )\n",
    "passengersvstime.isna().sum()"
   ]
  },
  {
   "cell_type": "code",
   "execution_count": 2,
   "metadata": {
    "cell_style": "center",
    "slideshow": {
     "slide_type": "fragment"
    }
   },
   "outputs": [
    {
     "data": {
      "image/png": "[encoded data removed]",
      "text/plain": [
       "<Figure size 432x288 with 1 Axes>"
      ]
     },
     "metadata": {
      "needs_background": "light"
     },
     "output_type": "display_data"
    }
   ],
   "source": [
    "passengersvstime.plot();"
   ]
  },
  {
   "cell_type": "markdown",
   "metadata": {
    "cell_style": "center",
    "slideshow": {
     "slide_type": "slide"
    }
   },
   "source": [
    "The .fillna() method:\n",
    "\n",
    "- Works on Series and Dataframes.\n",
    "\n",
    "- Series.fillna(method = 'ffill'): forward fills\n",
    "- Series.fillna(method = 'bfill'): backward fills"
   ]
  },
  {
   "cell_type": "code",
   "execution_count": null,
   "metadata": {
    "cell_style": "split",
    "slideshow": {
     "slide_type": "fragment"
    }
   },
   "outputs": [],
   "source": [
    "passengersvstime.plot(marker = 'o');"
   ]
  },
  {
   "cell_type": "code",
   "execution_count": null,
   "metadata": {
    "cell_style": "split",
    "slideshow": {
     "slide_type": "fragment"
    }
   },
   "outputs": [],
   "source": [
    "df = passengersvstime.fillna(method = 'ffill')\n",
    "df.plot(marker = 'o');"
   ]
  },
  {
   "cell_type": "markdown",
   "metadata": {
    "slideshow": {
     "slide_type": "slide"
    }
   },
   "source": [
    ".interpolate() method:\n",
    "- many schemes for connecting point separated by NaNs\n",
    "- how = 'linear': interpolates with line"
   ]
  },
  {
   "cell_type": "code",
   "execution_count": null,
   "metadata": {
    "cell_style": "split",
    "slideshow": {
     "slide_type": "fragment"
    }
   },
   "outputs": [],
   "source": [
    "df = passengersvstime.fillna(method = 'ffill')\n",
    "df.plot(marker = 'o')\n",
    "plt.show()"
   ]
  },
  {
   "cell_type": "code",
   "execution_count": null,
   "metadata": {
    "cell_style": "split",
    "slideshow": {
     "slide_type": "fragment"
    }
   },
   "outputs": [],
   "source": [
    "df = passengersvstime.interpolate(\n",
    "    how = 'linear')\n",
    "df.plot(marker = 'o')\n",
    "plt.show()"
   ]
  },
  {
   "cell_type": "markdown",
   "metadata": {
    "cell_style": "center",
    "slideshow": {
     "slide_type": "slide"
    }
   },
   "source": [
    "For data that is not ordered and with enough data:\n",
    "\n",
    "Simple statistical strategies possible:\n",
    "- Fill with column mean.\n",
    "- Fill with column median.\n",
    "- Fill with column mode.\n",
    "\n",
    "When to do which? Let's load in our trusty titanic dataset:"
   ]
  },
  {
   "cell_type": "code",
   "execution_count": null,
   "metadata": {
    "slideshow": {
     "slide_type": "slide"
    }
   },
   "outputs": [],
   "source": [
    "titanic_df = pd.read_csv('Data/titanic.csv')"
   ]
  },
  {
   "cell_type": "code",
   "execution_count": null,
   "metadata": {
    "slideshow": {
     "slide_type": "fragment"
    }
   },
   "outputs": [],
   "source": [
    "titanic_df.info()"
   ]
  },
  {
   "cell_type": "code",
   "execution_count": null,
   "metadata": {
    "cell_style": "split",
    "slideshow": {
     "slide_type": "slide"
    }
   },
   "outputs": [],
   "source": [
    "titanic_df['Age'].plot.hist(bins = 20)\n",
    "plt.axvline(titanic_df['Age'].mean(), c = 'r', linestyle = \"--\")\n",
    "plt.axvline(titanic_df['Age'].median(), c = 'orange', linestyle = \"--\")\n",
    "plt.xlabel('Age')\n",
    "plt.annotate(xy = (titanic_df['Age'].median()- 11, 50), c = 'orange', text = 'Median' )\n",
    "plt.annotate(xy = (titanic_df['Age'].mean() + 2, 50), c = 'red', text = 'Mean' )\n",
    "plt.title('Titanic: Distribution of Age')\n",
    "plt.show()"
   ]
  },
  {
   "cell_type": "markdown",
   "metadata": {
    "cell_style": "split",
    "slideshow": {
     "slide_type": "fragment"
    }
   },
   "source": [
    "Imputation with mean or median:\n",
    "- Good strategy here\n",
    "- Mean/median representative of range of values with highest probability.\n",
    "- Approximation gets better: tighter the distribution about mean/median."
   ]
  },
  {
   "cell_type": "markdown",
   "metadata": {
    "slideshow": {
     "slide_type": "slide"
    }
   },
   "source": [
    "#### Impute with outliers. \n",
    "- Median can be a better option when faced with outliers."
   ]
  },
  {
   "cell_type": "markdown",
   "metadata": {
    "slideshow": {
     "slide_type": "slide"
    }
   },
   "source": [
    "Scenario:\n",
    "\n",
    "- Historians find new manifest on Titanic with more passengers.\n",
    "- Was bring your grandparents to the Titanic day."
   ]
  },
  {
   "cell_type": "code",
   "execution_count": null,
   "metadata": {
    "slideshow": {
     "slide_type": "slide"
    }
   },
   "outputs": [],
   "source": [
    "\n",
    "age_new = pd.Series(np.append(titanic_df['Age'].values, np.random.normal(loc = 90, scale = 5, size = 120)))"
   ]
  },
  {
   "cell_type": "code",
   "execution_count": null,
   "metadata": {
    "cell_style": "split",
    "slideshow": {
     "slide_type": "fragment"
    }
   },
   "outputs": [],
   "source": [
    "age_new.plot.hist(bins = 25)\n",
    "plt.axvline(age_new.mean(), c = 'r', linestyle = \"--\")\n",
    "plt.axvline(age_new.median(), c = 'orange', linestyle = \"--\")\n",
    "plt.xlabel('Age')\n",
    "plt.annotate(xy = (age_new.median()- 14, 50), c = 'orange', text = 'Median' )\n",
    "plt.annotate(xy = (age_new.mean() + 2, 50), c = 'red', text = 'Mean' )\n",
    "plt.title('Titanic: New Distribution of Age')\n",
    "plt.show()"
   ]
  },
  {
   "cell_type": "code",
   "execution_count": null,
   "metadata": {
    "cell_style": "split",
    "slideshow": {
     "slide_type": "fragment"
    }
   },
   "outputs": [],
   "source": [
    "titanic_df['Age'].plot.hist(bins = 20)\n",
    "plt.axvline(titanic_df['Age'].mean(), c = 'r', linestyle = \"--\")\n",
    "plt.axvline(titanic_df['Age'].median(), c = 'orange', linestyle = \"--\")\n",
    "plt.xlabel('Age')\n",
    "plt.annotate(xy = (titanic_df['Age'].median()- 11, 50), c = 'orange', text = 'Median' )\n",
    "plt.annotate(xy = (titanic_df['Age'].mean() + 2, 50), c = 'red', text = 'Mean' )\n",
    "plt.title('Titanic: Distribution of Age')\n",
    "plt.show()"
   ]
  },
  {
   "cell_type": "markdown",
   "metadata": {
    "slideshow": {
     "slide_type": "slide"
    }
   },
   "source": [
    "Median much more stable than mean and near bulk of distribution. \n",
    "\n",
    "Better to impute with median in this case."
   ]
  },
  {
   "cell_type": "markdown",
   "metadata": {
    "cell_style": "center",
    "slideshow": {
     "slide_type": "slide"
    }
   },
   "source": [
    "Suppose we have missing values in Fare.\n",
    "\n",
    "- Based on distribution, impute with:\n",
    "    - Median?\n",
    "    - Mean?\n",
    "    - Mode?"
   ]
  },
  {
   "cell_type": "code",
   "execution_count": null,
   "metadata": {
    "cell_style": "split",
    "slideshow": {
     "slide_type": "slide"
    }
   },
   "outputs": [],
   "source": [
    "titanic_df['Fare'].plot.hist(bins = 30)\n",
    "plt.xlabel('Fare')\n",
    "plt.title('Distribution of Fares on Titanic')\n",
    "plt.show()"
   ]
  },
  {
   "cell_type": "code",
   "execution_count": null,
   "metadata": {
    "cell_style": "split",
    "slideshow": {
     "slide_type": "fragment"
    }
   },
   "outputs": [],
   "source": [
    "titanic_df['Fare'].plot.hist(bins = 30)\n",
    "plt.axvline(titanic_df['Fare'].mode()[0], c = 'r', linestyle = \"--\")\n",
    "plt.axvline(titanic_df['Fare'].mean(), c = 'b', linestyle = \"--\")\n",
    "\n",
    "plt.xlabel('Fare')\n",
    "plt.title('Ditribution of Fares on Titanic')\n",
    "plt.show()"
   ]
  },
  {
   "cell_type": "code",
   "execution_count": null,
   "metadata": {
    "cell_style": "split",
    "slideshow": {
     "slide_type": "fragment"
    }
   },
   "outputs": [],
   "source": [
    "titanic_df['Fare'].mode()"
   ]
  },
  {
   "cell_type": "markdown",
   "metadata": {
    "slideshow": {
     "slide_type": "slide"
    }
   },
   "source": [
    "Mode can be a good imputation choice when data is highly skewed on a specific value."
   ]
  },
  {
   "cell_type": "markdown",
   "metadata": {
    "slideshow": {
     "slide_type": "slide"
    }
   },
   "source": [
    "#### Simple statistical imputation in pandas\n",
    "- .fillna(value = ...)"
   ]
  },
  {
   "cell_type": "code",
   "execution_count": null,
   "metadata": {
    "slideshow": {
     "slide_type": "fragment"
    }
   },
   "outputs": [],
   "source": [
    "age_mean = titanic_df['Age'].mean()\n",
    "titanic_df['Age'].fillna(value = age_mean, inplace = True)"
   ]
  },
  {
   "cell_type": "markdown",
   "metadata": {
    "slideshow": {
     "slide_type": "fragment"
    }
   },
   "source": [
    "Exact same logic for other types of statistical imputation."
   ]
  },
  {
   "cell_type": "code",
   "execution_count": null,
   "metadata": {
    "slideshow": {
     "slide_type": "slide"
    }
   },
   "outputs": [],
   "source": [
    "titanic_df.info()"
   ]
  },
  {
   "cell_type": "markdown",
   "metadata": {
    "slideshow": {
     "slide_type": "slide"
    }
   },
   "source": [
    "#### This is the bare tip of statistical imputation strategies.\n",
    "\n",
    "- Many more sophisticated methods exist.\n",
    "    - e.g., Multivariate Imputation by Chained Equation.\n",
    "- Entire books written on the subject.\n"
   ]
  },
  {
   "cell_type": "markdown",
   "metadata": {
    "slideshow": {
     "slide_type": "fragment"
    }
   },
   "source": [
    "But just follow this:\n",
    "- Look at your data.\n",
    "- See what makes sense and is as easy as possible!\n",
    "- Can always come back later."
   ]
  }
 ],
 "metadata": {
  "kernelspec": {
   "display_name": "Python (learn-env)",
   "language": "python",
   "name": "learn-env"
  },
  "language_info": {
   "codemirror_mode": {
    "name": "ipython",
    "version": 3
   },
   "file_extension": ".py",
   "mimetype": "text/x-python",
   "name": "python",
   "nbconvert_exporter": "python",
   "pygments_lexer": "ipython3",
   "version": "3.8.5"
  }
 },
 "nbformat": 4,
 "nbformat_minor": 5
}
