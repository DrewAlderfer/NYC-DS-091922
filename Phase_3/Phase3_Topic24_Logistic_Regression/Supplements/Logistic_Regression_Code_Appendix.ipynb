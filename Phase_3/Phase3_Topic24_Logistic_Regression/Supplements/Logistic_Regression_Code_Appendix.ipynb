{
 "cells": [
  {
   "cell_type": "markdown",
   "metadata": {},
   "source": [
    "# Logistic Regression Code Appendix\n",
    "\n",
    "Resources: https://scikit-learn.org/stable/modules/generated/sklearn.linear_model.LogisticRegression.html\n",
    "\n",
    "Python Code:\n",
    "\n",
    "``` Python\n",
    "# Import dependency\n",
    "from sklearn.linear_model import LogisticRegression\n",
    "\n",
    "# Create the logistic regression object\n",
    "log = LogisticRegression()\n",
    "\n",
    "# Train the logistic regression model\n",
    "clf = log.fit(X, y)\n",
    "\n",
    "# Predict the target class based on p > 0.5 criteria\n",
    "clf.predict(X)\n",
    "\n",
    "# Predict the probability with the training data set\n",
    "clf.predict_proba(X)\n",
    "\n",
    "# Calculate the model fit\n",
    "clf.score(X, y)\n",
    "```"
   ]
  },
  {
   "cell_type": "code",
<<<<<<< HEAD
   "execution_count": 57,
=======
   "execution_count": 2,
   "id": "fcf99089",
>>>>>>> 8d02b3ee9aa0557285f6428e452ddc0a07efb0b6
   "metadata": {},
   "outputs": [],
   "source": [
    "import pandas as pd\n",
    "import numpy as numpy\n",
    "from sklearn.linear_model import LogisticRegression"
   ]
  },
  {
   "cell_type": "code",
<<<<<<< HEAD
   "execution_count": 56,
=======
   "execution_count": 3,
   "id": "5b8776d9",
>>>>>>> 8d02b3ee9aa0557285f6428e452ddc0a07efb0b6
   "metadata": {},
   "outputs": [
    {
     "data": {
      "text/html": [
       "<div>\n",
       "<style scoped>\n",
       "    .dataframe tbody tr th:only-of-type {\n",
       "        vertical-align: middle;\n",
       "    }\n",
       "\n",
       "    .dataframe tbody tr th {\n",
       "        vertical-align: top;\n",
       "    }\n",
       "\n",
       "    .dataframe thead th {\n",
       "        text-align: right;\n",
       "    }\n",
       "</style>\n",
       "<table border=\"1\" class=\"dataframe\">\n",
       "  <thead>\n",
       "    <tr style=\"text-align: right;\">\n",
       "      <th></th>\n",
       "      <th>Rating</th>\n",
       "      <th>CostPerSlice</th>\n",
       "      <th>HeatSource</th>\n",
       "      <th>BrickOven</th>\n",
       "      <th>Neighborhood</th>\n",
       "    </tr>\n",
       "  </thead>\n",
       "  <tbody>\n",
       "    <tr>\n",
       "      <th>0</th>\n",
       "      <td>0.03</td>\n",
       "      <td>1.75</td>\n",
       "      <td>Gas</td>\n",
       "      <td>False</td>\n",
       "      <td>LittleItaly</td>\n",
       "    </tr>\n",
       "    <tr>\n",
       "      <th>1</th>\n",
       "      <td>4.89</td>\n",
       "      <td>2.75</td>\n",
       "      <td>Coal</td>\n",
       "      <td>True</td>\n",
       "      <td>SoHo</td>\n",
       "    </tr>\n",
       "    <tr>\n",
       "      <th>2</th>\n",
       "      <td>4.73</td>\n",
       "      <td>4.00</td>\n",
       "      <td>Wood</td>\n",
       "      <td>True</td>\n",
       "      <td>LittleItaly</td>\n",
       "    </tr>\n",
       "    <tr>\n",
       "      <th>3</th>\n",
       "      <td>0.13</td>\n",
       "      <td>1.75</td>\n",
       "      <td>Gas</td>\n",
       "      <td>False</td>\n",
       "      <td>LittleItaly</td>\n",
       "    </tr>\n",
       "    <tr>\n",
       "      <th>4</th>\n",
       "      <td>2.45</td>\n",
       "      <td>2.25</td>\n",
       "      <td>Wood</td>\n",
       "      <td>True</td>\n",
       "      <td>Chinatown</td>\n",
       "    </tr>\n",
       "  </tbody>\n",
       "</table>\n",
       "</div>"
      ],
      "text/plain": [
       "   Rating  CostPerSlice HeatSource BrickOven Neighborhood\n",
       "0    0.03          1.75        Gas     False  LittleItaly\n",
       "1    4.89          2.75       Coal      True         SoHo\n",
       "2    4.73          4.00       Wood      True  LittleItaly\n",
       "3    0.13          1.75        Gas     False  LittleItaly\n",
       "4    2.45          2.25       Wood      True    Chinatown"
      ]
     },
<<<<<<< HEAD
     "execution_count": 56,
=======
     "execution_count": 3,
>>>>>>> 8d02b3ee9aa0557285f6428e452ddc0a07efb0b6
     "metadata": {},
     "output_type": "execute_result"
    }
   ],
   "source": [
    "# Loading the fake pizza dataset from the web\n",
    "pizza = pd.read_csv('https://jaredlander.com/data/Fake%20Pizza%20Data.csv')\n",
    "pizza.head()"
   ]
  },
  {
   "cell_type": "code",
<<<<<<< HEAD
   "execution_count": 59,
=======
   "execution_count": 6,
   "id": "0a2b71a5",
   "metadata": {},
   "outputs": [],
   "source": [
    "from sklearn.preprocessing import LabelEncoder"
   ]
  },
  {
   "cell_type": "code",
   "execution_count": 9,
   "id": "78bc8ad1",
   "metadata": {},
   "outputs": [],
   "source": [
    "enc = LabelEncoder()\n",
    "pizza[\"BrickOven\"] = enc.fit_transform(pizza[\"BrickOven\"])"
   ]
  },
  {
   "cell_type": "code",
   "execution_count": 10,
   "id": "13d5a1d8",
   "metadata": {},
   "outputs": [
    {
     "data": {
      "text/html": [
       "<div>\n",
       "<style scoped>\n",
       "    .dataframe tbody tr th:only-of-type {\n",
       "        vertical-align: middle;\n",
       "    }\n",
       "\n",
       "    .dataframe tbody tr th {\n",
       "        vertical-align: top;\n",
       "    }\n",
       "\n",
       "    .dataframe thead th {\n",
       "        text-align: right;\n",
       "    }\n",
       "</style>\n",
       "<table border=\"1\" class=\"dataframe\">\n",
       "  <thead>\n",
       "    <tr style=\"text-align: right;\">\n",
       "      <th></th>\n",
       "      <th>Rating</th>\n",
       "      <th>CostPerSlice</th>\n",
       "      <th>HeatSource</th>\n",
       "      <th>BrickOven</th>\n",
       "      <th>Neighborhood</th>\n",
       "    </tr>\n",
       "  </thead>\n",
       "  <tbody>\n",
       "    <tr>\n",
       "      <th>0</th>\n",
       "      <td>0.03</td>\n",
       "      <td>1.75</td>\n",
       "      <td>Gas</td>\n",
       "      <td>0</td>\n",
       "      <td>LittleItaly</td>\n",
       "    </tr>\n",
       "    <tr>\n",
       "      <th>1</th>\n",
       "      <td>4.89</td>\n",
       "      <td>2.75</td>\n",
       "      <td>Coal</td>\n",
       "      <td>1</td>\n",
       "      <td>SoHo</td>\n",
       "    </tr>\n",
       "    <tr>\n",
       "      <th>2</th>\n",
       "      <td>4.73</td>\n",
       "      <td>4.00</td>\n",
       "      <td>Wood</td>\n",
       "      <td>1</td>\n",
       "      <td>LittleItaly</td>\n",
       "    </tr>\n",
       "    <tr>\n",
       "      <th>3</th>\n",
       "      <td>0.13</td>\n",
       "      <td>1.75</td>\n",
       "      <td>Gas</td>\n",
       "      <td>0</td>\n",
       "      <td>LittleItaly</td>\n",
       "    </tr>\n",
       "    <tr>\n",
       "      <th>4</th>\n",
       "      <td>2.45</td>\n",
       "      <td>2.25</td>\n",
       "      <td>Wood</td>\n",
       "      <td>1</td>\n",
       "      <td>Chinatown</td>\n",
       "    </tr>\n",
       "  </tbody>\n",
       "</table>\n",
       "</div>"
      ],
      "text/plain": [
       "   Rating  CostPerSlice HeatSource  BrickOven Neighborhood\n",
       "0    0.03          1.75        Gas          0  LittleItaly\n",
       "1    4.89          2.75       Coal          1         SoHo\n",
       "2    4.73          4.00       Wood          1  LittleItaly\n",
       "3    0.13          1.75        Gas          0  LittleItaly\n",
       "4    2.45          2.25       Wood          1    Chinatown"
      ]
     },
     "execution_count": 10,
     "metadata": {},
     "output_type": "execute_result"
    }
   ],
   "source": [
    "pizza.head()"
   ]
  },
  {
   "cell_type": "code",
   "execution_count": 14,
   "id": "f1c0460b",
   "metadata": {},
   "outputs": [],
   "source": [
    "pizza.dropna(inplace = True)"
   ]
  },
  {
   "cell_type": "code",
   "execution_count": 22,
   "id": "0ab3a037",
>>>>>>> 8d02b3ee9aa0557285f6428e452ddc0a07efb0b6
   "metadata": {},
   "outputs": [],
   "source": [
    "# Prepare data for model\n",
    "y = pizza['BrickOven']\n",
    "X = pizza[['Rating']]"
   ]
  },
  {
   "cell_type": "code",
<<<<<<< HEAD
   "execution_count": 60,
=======
   "execution_count": 23,
   "id": "a5776d7d",
   "metadata": {},
   "outputs": [
    {
     "data": {
      "text/plain": [
       "(200, 1)"
      ]
     },
     "execution_count": 23,
     "metadata": {},
     "output_type": "execute_result"
    }
   ],
   "source": [
    "X.shape"
   ]
  },
  {
   "cell_type": "code",
   "execution_count": 24,
   "id": "73e00292",
   "metadata": {},
   "outputs": [],
   "source": [
    "from sklearn.model_selection import train_test_split, cross_validate"
   ]
  },
  {
   "cell_type": "code",
   "execution_count": 25,
   "id": "a7647c60",
   "metadata": {},
   "outputs": [],
   "source": [
    "X_train, X_test, y_train, y_test = train_test_split(X, y, test_size=0.2, random_state=27)"
   ]
  },
  {
   "cell_type": "code",
   "execution_count": 27,
   "id": "7c0edb5c",
   "metadata": {},
   "outputs": [],
   "source": [
    "from sklearn.preprocessing import StandardScaler\n",
    "\n",
    "ss= StandardScaler()\n",
    "X_train = ss.fit_transform(X_train)\n",
    "X_test = ss.transform(X_test)"
   ]
  },
  {
   "cell_type": "code",
   "execution_count": 18,
   "id": "acfa71a3",
   "metadata": {},
   "outputs": [],
   "source": [
    "from sklearn.linear_model import LogisticRegression"
   ]
  },
  {
   "cell_type": "code",
   "execution_count": 34,
   "id": "664e03b7",
>>>>>>> 8d02b3ee9aa0557285f6428e452ddc0a07efb0b6
   "metadata": {},
   "outputs": [
    {
     "data": {
<<<<<<< HEAD
      "text/html": [
       "<div>\n",
       "<style scoped>\n",
       "    .dataframe tbody tr th:only-of-type {\n",
       "        vertical-align: middle;\n",
       "    }\n",
       "\n",
       "    .dataframe tbody tr th {\n",
       "        vertical-align: top;\n",
       "    }\n",
       "\n",
       "    .dataframe thead th {\n",
       "        text-align: right;\n",
       "    }\n",
       "</style>\n",
       "<table border=\"1\" class=\"dataframe\">\n",
       "  <thead>\n",
       "    <tr style=\"text-align: right;\">\n",
       "      <th></th>\n",
       "      <th>rating</th>\n",
       "      <th>brick_oven</th>\n",
       "    </tr>\n",
       "  </thead>\n",
       "  <tbody>\n",
       "    <tr>\n",
       "      <th>rating</th>\n",
       "      <td>1.000000</td>\n",
       "      <td>0.062179</td>\n",
       "    </tr>\n",
       "    <tr>\n",
       "      <th>brick_oven</th>\n",
       "      <td>0.062179</td>\n",
       "      <td>1.000000</td>\n",
       "    </tr>\n",
       "  </tbody>\n",
       "</table>\n",
       "</div>"
      ],
      "text/plain": [
       "              rating  brick_oven\n",
       "rating      1.000000    0.062179\n",
       "brick_oven  0.062179    1.000000"
      ]
     },
     "execution_count": 60,
=======
      "text/plain": [
       "LogisticRegression(penalty='l1', solver='liblinear')"
      ]
     },
     "execution_count": 34,
>>>>>>> 8d02b3ee9aa0557285f6428e452ddc0a07efb0b6
     "metadata": {},
     "output_type": "execute_result"
    }
   ],
   "source": [
<<<<<<< HEAD
    "# Create the logistic regression object\n",
    "def myfunc(x):\n",
    "    if x:\n",
    "        return 1\n",
    "    return 0\n",
    "y = y.map(myfunc)\n",
    "len(X), len(y)\n",
    "data = zip(X,y)\n",
    "df = pd.DataFrame(data, columns=[\"rating\", \"brick_oven\"])\n",
    "df.corr()"
=======
    "log = LogisticRegression(penalty ='l1', solver = 'liblinear')\n",
    "log.fit(X_train, y_train)\n"
>>>>>>> 8d02b3ee9aa0557285f6428e452ddc0a07efb0b6
   ]
  },
  {
   "cell_type": "code",
<<<<<<< HEAD
   "execution_count": 61,
=======
   "execution_count": 35,
   "id": "4f79ab4a",
>>>>>>> 8d02b3ee9aa0557285f6428e452ddc0a07efb0b6
   "metadata": {},
   "outputs": [
    {
     "data": {
      "text/plain": [
       "array([0, 0, 0, 0, 0, 0, 0, 0, 0, 0, 0, 0, 0, 0, 0, 0, 0, 0, 0, 0, 0, 0,\n",
       "       0, 0, 0, 0, 0, 0, 0, 0, 0, 0, 0, 0, 0, 0, 0, 0, 0, 0])"
      ]
     },
     "execution_count": 35,
     "metadata": {},
     "output_type": "execute_result"
    }
   ],
   "source": [
<<<<<<< HEAD
    "from sklearn.model_selection import train_test_split\n",
    "from sklearn.model_selection import cross_validate as cv"
=======
    "# Train the model\n",
    "log.predict(X_test)"
>>>>>>> 8d02b3ee9aa0557285f6428e452ddc0a07efb0b6
   ]
  },
  {
   "cell_type": "code",
   "execution_count": 62,
   "metadata": {},
   "outputs": [
    {
     "data": {
      "text/html": [
       "<div>\n",
       "<style scoped>\n",
       "    .dataframe tbody tr th:only-of-type {\n",
       "        vertical-align: middle;\n",
       "    }\n",
       "\n",
       "    .dataframe tbody tr th {\n",
       "        vertical-align: top;\n",
       "    }\n",
       "\n",
       "    .dataframe thead th {\n",
       "        text-align: right;\n",
       "    }\n",
       "</style>\n",
       "<table border=\"1\" class=\"dataframe\">\n",
       "  <thead>\n",
       "    <tr style=\"text-align: right;\">\n",
       "      <th></th>\n",
       "      <th>rating</th>\n",
       "      <th>brick_oven</th>\n",
       "    </tr>\n",
       "  </thead>\n",
       "  <tbody>\n",
       "    <tr>\n",
       "      <th>rating</th>\n",
       "      <td>1.000000</td>\n",
       "      <td>0.062179</td>\n",
       "    </tr>\n",
       "    <tr>\n",
       "      <th>brick_oven</th>\n",
       "      <td>0.062179</td>\n",
       "      <td>1.000000</td>\n",
       "    </tr>\n",
       "  </tbody>\n",
       "</table>\n",
       "</div>"
      ],
      "text/plain": [
       "              rating  brick_oven\n",
       "rating      1.000000    0.062179\n",
       "brick_oven  0.062179    1.000000"
      ]
     },
     "execution_count": 62,
     "metadata": {},
     "output_type": "execute_result"
    }
   ],
   "source": [
<<<<<<< HEAD
    "# Train the model\n",
    "df.dropna(axis=0, how=\"any\", inplace=True)\n",
    "df.corr()"
=======
    "# Predict the class of the targe"
>>>>>>> 8d02b3ee9aa0557285f6428e452ddc0a07efb0b6
   ]
  },
  {
   "cell_type": "code",
   "execution_count": 63,
   "metadata": {},
   "outputs": [],
   "source": [
    "X = df['rating']\n",
    "y = df['brick_oven']\n",
    "X = np.array(X).reshape(-1, 1)\n",
    "clf = log.fit(X,y)"
   ]
  },
  {
   "cell_type": "code",
   "execution_count": 123,
   "metadata": {},
   "outputs": [],
   "source": [
    "# clf.predict(X)"
   ]
  },
  {
   "cell_type": "code",
   "execution_count": 121,
   "metadata": {
    "scrolled": false
   },
   "outputs": [],
   "source": [
    "# Predict the probability of the target\n",
    "# clf.predict_proba(X)"
   ]
  },
  {
   "cell_type": "code",
   "execution_count": 66,
   "metadata": {},
   "outputs": [
    {
     "data": {
      "text/plain": [
       "0.66"
      ]
     },
     "execution_count": 66,
     "metadata": {},
     "output_type": "execute_result"
    }
   ],
   "source": [
    "clf.score(X, y)"
   ]
  },
  {
   "cell_type": "code",
   "execution_count": 98,
   "metadata": {},
   "outputs": [],
   "source": [
    "from sklearn.preprocessing import StandardScaler\n",
    "scaler = StandardScaler()\n",
    "X_scaled = scaler.fit_transform(X)"
   ]
  },
  {
   "cell_type": "code",
   "execution_count": 115,
   "metadata": {},
   "outputs": [],
   "source": [
    "from sklearn.preprocessing import LabelEncoder\n",
    "enc = LabelEncoder()\n",
    "y_02 = enc.fit_transform(pizza['BrickOven']) \n",
    "y_02 = y_02[:-1]"
   ]
  },
  {
   "cell_type": "code",
   "execution_count": 129,
   "metadata": {},
   "outputs": [
    {
     "data": {
      "text/plain": [
       "[0.66, 0.66, 0.67, 0.67, 0.67, 0.67, 0.67, 0.67, 0.67, 0.67]"
      ]
     },
     "execution_count": 129,
     "metadata": {},
     "output_type": "execute_result"
    }
   ],
   "source": [
    "results = []\n",
    "c_a = 1\n",
    "for count in range(10):\n",
    "    clf_02 = LogisticRegression(\n",
    "                penalty=\"l2\",\n",
    "                C=c_a,             # Smaller values -> more regularization\n",
    "                max_iter=1e3,      # Ensure we eventually reach a solution\n",
    "#                 solver='liblinear',    # (Default) Can optimize depending on problem\n",
    "#                 multi_class='ovr'  # (Default) Will try to do multiclass classification \n",
    "    )\n",
    "\n",
    "    clf_02.fit(X_scaled, y_02)\n",
    "    results.append(clf_02.score(X, y_02))\n",
    "    c_a *= 10\n",
    "results"
   ]
  },
  {
   "cell_type": "code",
   "execution_count": 125,
   "metadata": {},
   "outputs": [
    {
     "data": {
      "text/plain": [
       "array([[0.41588167, 1.07809913],\n",
       "       [0.68600496, 0.70034078],\n",
       "       [0.67547354, 0.7111388 ],\n",
       "       [0.42043737, 1.06932393],\n",
       "       [0.53769041, 0.87730014],\n",
       "       [0.69331127, 0.69298311],\n",
       "       [0.54717831, 0.86412551],\n",
       "       [0.65283238, 0.73515579],\n",
       "       [0.64836938, 0.74002441],\n",
       "       [0.41998   , 1.07019965],\n",
       "       [0.63448417, 0.75546718],\n",
       "       [0.4282741 , 1.05449813],\n",
       "       [0.68468231, 0.70168432],\n",
       "       [0.69197886, 0.69431687],\n",
       "       [0.69264484, 0.69364977],\n",
       "       [0.67416511, 0.71249655],\n",
       "       [0.68799226, 0.69832881],\n",
       "       [0.42135332, 1.06757369],\n",
       "       [0.69264484, 0.69364977],\n",
       "       [0.67612842, 0.7104606 ],\n",
       "       [0.43906244, 1.0346254 ],\n",
       "       [0.68336144, 0.70302963],\n",
       "       [0.42411077, 1.06233261],\n",
       "       [0.68998356, 0.69632084],\n",
       "       [0.69264484, 0.69364977],\n",
       "       [0.61712189, 0.77543141],\n",
       "       [0.69064821, 0.69565241],\n",
       "       [0.69331127, 0.69298311],\n",
       "       [0.4287387 , 1.05362964],\n",
       "       [0.68998356, 0.69632084],\n",
       "       [0.67743952, 0.70910551],\n",
       "       [0.67678375, 0.70978283],\n",
       "       [0.55679144, 0.85107611],\n",
       "       [0.67612842, 0.7104606 ],\n",
       "       [0.6794095 , 0.70707622],\n",
       "       [0.41769916, 1.07458425],\n",
       "       [0.67416511, 0.71249655],\n",
       "       [0.67875239, 0.70775221],\n",
       "       [0.57231777, 0.83060903],\n",
       "       [0.68600496, 0.70034078],\n",
       "       [0.69264484, 0.69364977],\n",
       "       [0.45833881, 1.00057818],\n",
       "       [0.68336144, 0.70302963],\n",
       "       [0.52233502, 0.89927126],\n",
       "       [0.69331127, 0.69298311],\n",
       "       [0.43906244, 1.0346254 ],\n",
       "       [0.42273024, 1.06495135],\n",
       "       [0.6676496 , 0.71931194],\n",
       "       [0.4186103 , 1.07282921],\n",
       "       [0.65027943, 0.7379352 ],\n",
       "       [0.68931935, 0.69698972],\n",
       "       [0.68799226, 0.69832881],\n",
       "       [0.45687027, 1.00310891],\n",
       "       [0.41998   , 1.07019965],\n",
       "       [0.46573736, 0.98798039],\n",
       "       [0.68799226, 0.69832881],\n",
       "       [0.51264139, 0.91357325],\n",
       "       [0.5852043 , 0.81416758],\n",
       "       [0.41815453, 1.07370653],\n",
       "       [0.67285846, 0.71385608],\n",
       "       [0.64836938, 0.74002441],\n",
       "       [0.65347173, 0.73446204],\n",
       "       [0.68865558, 0.69765905],\n",
       "       [0.47272698, 0.97630675],\n",
       "       [0.57057692, 0.83286744],\n",
       "       [0.63198262, 0.75829799],\n",
       "       [0.58816263, 0.81046046],\n",
       "       [0.54102481, 0.872636  ],\n",
       "       [0.61283544, 0.78047659],\n",
       "       [0.58638632, 0.81268341],\n",
       "       [0.61344647, 0.77975453],\n",
       "       [0.69064821, 0.69565241],\n",
       "       [0.69064821, 0.69565241],\n",
       "       [0.68865558, 0.69765905],\n",
       "       [0.67875239, 0.70775221],\n",
       "       [0.69264484, 0.69364977],\n",
       "       [0.41588167, 1.07809913],\n",
       "       [0.68600496, 0.70034078],\n",
       "       [0.61896556, 0.77327581],\n",
       "       [0.48489965, 0.95648527],\n",
       "       [0.48438764, 0.95730634],\n",
       "       [0.51264139, 0.91357325],\n",
       "       [0.48234377, 0.96059484],\n",
       "       [0.6618236 , 0.72548375],\n",
       "       [0.67875239, 0.70775221],\n",
       "       [0.67875239, 0.70775221],\n",
       "       [0.63887894, 0.75053032],\n",
       "       [0.66700049, 0.71999592],\n",
       "       [0.5365824 , 0.87885831],\n",
       "       [0.41724419, 1.07546237],\n",
       "       [0.66246916, 0.72479621],\n",
       "       [0.66246916, 0.72479621],\n",
       "       [0.43953637, 1.03376624],\n",
       "       [0.5158572 , 0.90879052],\n",
       "       [0.68666695, 0.69966968],\n",
       "       [0.54774032, 0.86335443],\n",
       "       [0.45200194, 1.01157148],\n",
       "       [0.69331127, 0.69298311],\n",
       "       [0.43434551, 1.04323937],\n",
       "       [0.47776961, 0.96801849],\n",
       "       [0.68468231, 0.70168432],\n",
       "       [0.51800962, 0.90561058],\n",
       "       [0.43293834, 1.04583148],\n",
       "       [0.63385812, 0.75617422],\n",
       "       [0.45006613, 1.01496803],\n",
       "       [0.68006704, 0.70640068],\n",
       "       [0.5185488 , 0.90481667],\n",
       "       [0.65411152, 0.73376874],\n",
       "       [0.67875239, 0.70775221],\n",
       "       [0.69064821, 0.69565241],\n",
       "       [0.64519482, 0.7435153 ],\n",
       "       [0.6307345 , 0.75971604],\n",
       "       [0.58875561, 0.80972035],\n",
       "       [0.44048545, 1.03204915],\n",
       "       [0.64139997, 0.74771899],\n",
       "       [0.5528179 , 0.8564342 ],\n",
       "       [0.61100501, 0.78264543],\n",
       "       [0.4287387 , 1.05362964],\n",
       "       [0.68072504, 0.70572558],\n",
       "       [0.50625585, 0.92318479],\n",
       "       [0.68666695, 0.69966968],\n",
       "       [0.45491799, 1.006489  ],\n",
       "       [0.45103321, 1.01326894],\n",
       "       [0.68204235, 0.70437671],\n",
       "       [0.65539243, 0.73238347],\n",
       "       [0.46573736, 0.98798039],\n",
       "       [0.66311516, 0.72410913],\n",
       "       [0.5321676 , 0.88510823],\n",
       "       [0.60796312, 0.78626898],\n",
       "       [0.43669889, 1.03892731],\n",
       "       [0.49783708, 0.93609545],\n",
       "       [0.68270167, 0.70370295],\n",
       "       [0.4423885 , 1.02861984],\n",
       "       [0.62948815, 0.76113587],\n",
       "       [0.66959959, 0.71726266],\n",
       "       [0.56422741, 0.84118192],\n",
       "       [0.45443096, 1.00733505],\n",
       "       [0.42181189, 1.06669918],\n",
       "       [0.68336144, 0.70302963],\n",
       "       [0.47122233, 0.97880137],\n",
       "       [0.42503314, 1.0605888 ],\n",
       "       [0.55451824, 0.85413527],\n",
       "       [0.69197886, 0.69431687],\n",
       "       [0.68799226, 0.69832881],\n",
       "       [0.58461395, 0.81491032],\n",
       "       [0.68006704, 0.70640068],\n",
       "       [0.67809574, 0.70842864],\n",
       "       [0.68998356, 0.69632084],\n",
       "       [0.69064821, 0.69565241],\n",
       "       [0.4282741 , 1.05449813],\n",
       "       [0.45248692, 1.01072337],\n",
       "       [0.69064821, 0.69565241],\n",
       "       [0.68799226, 0.69832881],\n",
       "       [0.69264484, 0.69364977],\n",
       "       [0.44958321, 1.0158182 ],\n",
       "       [0.60796312, 0.78626898],\n",
       "       [0.59351527, 0.8038153 ],\n",
       "       [0.69264484, 0.69364977],\n",
       "       [0.67678375, 0.70978283],\n",
       "       [0.67875239, 0.70775221],\n",
       "       [0.56884   , 0.83512979],\n",
       "       [0.48336486, 0.95894975],\n",
       "       [0.68865558, 0.69765905],\n",
       "       [0.43060117, 1.05015975],\n",
       "       [0.49993159, 0.9328576 ],\n",
       "       [0.62762194, 0.76326893],\n",
       "       [0.49366839, 0.94259148],\n",
       "       [0.69264484, 0.69364977],\n",
       "       [0.68402165, 0.70235675],\n",
       "       [0.58875561, 0.80972035],\n",
       "       [0.43153482, 1.04842723],\n",
       "       [0.60614327, 0.7884484 ],\n",
       "       [0.61835056, 0.77399391],\n",
       "       [0.69264484, 0.69364977],\n",
       "       [0.58934903, 0.80898068],\n",
       "       [0.63448417, 0.75546718],\n",
       "       [0.68534341, 0.70101233],\n",
       "       [0.68138347, 0.70505092],\n",
       "       [0.69264484, 0.69364977],\n",
       "       [0.42227086, 1.06582506],\n",
       "       [0.68732938, 0.69899903],\n",
       "       [0.41998   , 1.07019965],\n",
       "       [0.62142997, 0.77040787],\n",
       "       [0.46872292, 0.98296741],\n",
       "       [0.50890903, 0.91917252],\n",
       "       [0.49993159, 0.9328576 ],\n",
       "       [0.63950853, 0.74982682],\n",
       "       [0.44477651, 1.0243424 ],\n",
       "       [0.69064821, 0.69565241],\n",
       "       [0.65219348, 0.73584997],\n",
       "       [0.63448417, 0.75546718],\n",
       "       [0.68931935, 0.69698972],\n",
       "       [0.63636499, 0.75334872],\n",
       "       [0.60978693, 0.78409353],\n",
       "       [0.57697927, 0.82460581],\n",
       "       [0.45589331, 1.00479813],\n",
       "       [0.64582884, 0.74281624],\n",
       "       [0.60191237, 0.79354914],\n",
       "       [0.44573457, 1.02263428],\n",
       "       [0.68998356, 0.69632084]])"
      ]
     },
     "execution_count": 125,
     "metadata": {},
     "output_type": "execute_result"
    }
   ],
   "source": []
  },
  {
   "cell_type": "code",
   "execution_count": 117,
   "metadata": {},
   "outputs": [],
   "source": [
    "model_cv = cv(\n",
    "                    estimator=clf,\n",
    "                    X=X_scaled,\n",
    "                    y=y_02,\n",
    "                    cv=5,\n",
    "                    return_train_score=True\n",
    ")"
   ]
  },
  {
   "cell_type": "code",
   "execution_count": 118,
   "metadata": {},
   "outputs": [
    {
     "data": {
      "text/plain": [
       "0.67"
      ]
     },
     "execution_count": 118,
     "metadata": {},
     "output_type": "execute_result"
    }
   ],
   "source": [
    "clf_02.score(X, y)"
   ]
  },
  {
   "cell_type": "code",
   "execution_count": 119,
   "metadata": {},
   "outputs": [
    {
     "data": {
      "text/plain": [
       "array([0.65625, 0.65625, 0.6625 , 0.6625 , 0.6625 ])"
      ]
     },
     "execution_count": 119,
     "metadata": {},
     "output_type": "execute_result"
    }
   ],
   "source": [
    "model_cv['train_score']"
   ]
  },
  {
   "cell_type": "code",
   "execution_count": 120,
   "metadata": {},
   "outputs": [
    {
     "data": {
      "text/plain": [
       "array([0.675, 0.675, 0.65 , 0.65 , 0.65 ])"
      ]
     },
     "execution_count": 120,
     "metadata": {},
     "output_type": "execute_result"
    }
   ],
   "source": [
    "model_cv['test_score']"
   ]
  },
  {
   "cell_type": "code",
   "execution_count": 92,
   "metadata": {},
   "outputs": [
    {
     "data": {
      "text/plain": [
       "{'fit_time': array([0.00759459, 0.00803113, 0.00799704, 0.00809193, 0.        ]),\n",
       " 'score_time': array([0., 0., 0., 0., 0.]),\n",
       " 'test_score': array([0.675, 0.675, 0.65 , 0.65 , 0.65 ]),\n",
       " 'train_score': array([0.65625, 0.65625, 0.6625 , 0.6625 , 0.6625 ])}"
      ]
     },
     "execution_count": 92,
     "metadata": {},
     "output_type": "execute_result"
    }
   ],
   "source": [
    "model_cv"
   ]
  }
 ],
 "metadata": {
  "hide_input": false,
  "kernelspec": {
<<<<<<< HEAD
   "display_name": "Python 3 (learn-env)",
=======
   "display_name": "dplearn",
>>>>>>> 8d02b3ee9aa0557285f6428e452ddc0a07efb0b6
   "language": "python",
   "name": "dplearn"
  },
  "language_info": {
   "codemirror_mode": {
    "name": "ipython",
    "version": 3
   },
   "file_extension": ".py",
   "mimetype": "text/x-python",
   "name": "python",
   "nbconvert_exporter": "python",
   "pygments_lexer": "ipython3",
<<<<<<< HEAD
   "version": "3.8.5"
=======
   "version": "3.7.5"
>>>>>>> 8d02b3ee9aa0557285f6428e452ddc0a07efb0b6
  },
  "latex_envs": {
   "LaTeX_envs_menu_present": true,
   "autoclose": false,
   "autocomplete": true,
   "bibliofile": "biblio.bib",
   "cite_by": "apalike",
   "current_citInitial": 1,
   "eqLabelWithNumbers": true,
   "eqNumInitial": 1,
   "hotkeys": {
    "equation": "Ctrl-E",
    "itemize": "Ctrl-I"
   },
   "labels_anchors": false,
   "latex_user_defs": false,
   "report_style_numbering": false,
   "user_envs_cfg": false
  },
  "nbTranslate": {
   "displayLangs": [
    "*"
   ],
   "hotkey": "alt-t",
   "langInMainMenu": true,
   "sourceLang": "en",
   "targetLang": "fr",
   "useGoogleTranslate": true
  },
  "toc": {
   "base_numbering": 1,
   "nav_menu": {},
   "number_sections": true,
   "sideBar": true,
   "skip_h1_title": false,
   "title_cell": "Table of Contents",
   "title_sidebar": "Contents",
   "toc_cell": false,
   "toc_position": {},
   "toc_section_display": true,
   "toc_window_display": false
  },
  "varInspector": {
   "cols": {
    "lenName": 16,
    "lenType": 16,
    "lenVar": 40
   },
   "kernels_config": {
    "python": {
     "delete_cmd_postfix": "",
     "delete_cmd_prefix": "del ",
     "library": "var_list.py",
     "varRefreshCmd": "print(var_dic_list())"
    },
    "r": {
     "delete_cmd_postfix": ") ",
     "delete_cmd_prefix": "rm(",
     "library": "var_list.r",
     "varRefreshCmd": "cat(var_dic_list()) "
    }
   },
   "types_to_exclude": [
    "module",
    "function",
    "builtin_function_or_method",
    "instance",
    "_Feature"
   ],
   "window_display": false
  }
 },
 "nbformat": 4,
 "nbformat_minor": 5
}
